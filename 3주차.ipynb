{
  "nbformat": 4,
  "nbformat_minor": 0,
  "metadata": {
    "colab": {
      "name": "3주차.ipynb",
      "provenance": []
    },
    "kernelspec": {
      "name": "python3",
      "display_name": "Python 3"
    },
    "language_info": {
      "name": "python"
    }
  },
  "cells": [
    {
      "cell_type": "code",
      "execution_count": 3,
      "metadata": {
        "colab": {
          "base_uri": "https://localhost:8080/"
        },
        "id": "Nt2DLykYhVjD",
        "outputId": "4eb4e29c-344f-44dd-b350-c41bef686fe7"
      },
      "outputs": [
        {
          "output_type": "stream",
          "name": "stdout",
          "text": [
            "[[1.31605744 1.28383717]\n",
            " [1.00559363 0.70935857]\n",
            " [0.93344575 0.90913426]\n",
            " [0.99016366 1.02043878]\n",
            " [0.70826405 0.60397765]] (5, 2)\n"
          ]
        }
      ],
      "source": [
        "# 1번 문항\n",
        "import numpy as np\n",
        "\n",
        "arr1 = np.random.rand(5,3) # 무작위 데이터 5*3 행렬 \n",
        "arr2 = np.random.rand(3,2) # 무작위 데이터 3*2 행렬\n",
        "\n",
        "dot = np.dot(arr1, arr2)\n",
        "print( dot, dot.shape) # 5*2 행렬 만들어진것 확인 가능\n"
      ]
    },
    {
      "cell_type": "code",
      "source": [
        "# 2번 문항\n",
        "arr1 = np.array([ [5,7], [9,7] ], float)\n",
        "arr2 = np.array([ [2,4], [6,8] ], float)\n",
        "\n",
        "concat_1 = np.concatenate((arr1,arr2), axis=0) #열방향(axis 0) concat \n",
        "concat_2 = np.concatenate((arr1,arr2), axis=1) #행방향(axis 1) concat\n",
        "\n",
        "print( concat_1 , concat_1.shape)\n",
        "print( concat_2 , concat_1.shape)\n"
      ],
      "metadata": {
        "colab": {
          "base_uri": "https://localhost:8080/"
        },
        "id": "91ZWT2IHjVA4",
        "outputId": "bb82cf3d-0e68-49b8-95db-11c842411668"
      },
      "execution_count": 9,
      "outputs": [
        {
          "output_type": "stream",
          "name": "stdout",
          "text": [
            "[[5. 7.]\n",
            " [9. 7.]\n",
            " [2. 4.]\n",
            " [6. 8.]] (4, 2)\n",
            "[[5. 7. 2. 4.]\n",
            " [9. 7. 6. 8.]] (4, 2)\n"
          ]
        }
      ]
    },
    {
      "cell_type": "code",
      "source": [
        "# 3번 문항\n",
        "xy = np.array( [[1., 2., 3., 4., 6.] , \n",
        "              [10., 20., 30., 40., 50., 60.]])\n",
        "print(xy)\n",
        "\n",
        "x_train = xy[0]  \n",
        "y_train = xy[1] \n",
        "\n",
        "print(x_train)\n",
        "print(y_train)\n",
        "\n"
      ],
      "metadata": {
        "colab": {
          "base_uri": "https://localhost:8080/"
        },
        "id": "ig7AWLo-kz-Y",
        "outputId": "afd0f49a-8d4e-4db8-beb0-0f999d3a3c06"
      },
      "execution_count": 23,
      "outputs": [
        {
          "output_type": "stream",
          "name": "stdout",
          "text": [
            "[list([1.0, 2.0, 3.0, 4.0, 6.0])\n",
            " list([10.0, 20.0, 30.0, 40.0, 50.0, 60.0])]\n",
            "[1.0, 2.0, 3.0, 4.0, 6.0]\n",
            "[10.0, 20.0, 30.0, 40.0, 50.0, 60.0]\n"
          ]
        },
        {
          "output_type": "stream",
          "name": "stderr",
          "text": [
            "/usr/local/lib/python3.7/dist-packages/ipykernel_launcher.py:3: VisibleDeprecationWarning: Creating an ndarray from ragged nested sequences (which is a list-or-tuple of lists-or-tuples-or ndarrays with different lengths or shapes) is deprecated. If you meant to do this, you must specify 'dtype=object' when creating the ndarray.\n",
            "  This is separate from the ipykernel package so we can avoid doing imports until\n"
          ]
        }
      ]
    },
    {
      "cell_type": "code",
      "source": [
        "# 4번 문항\n",
        "\n",
        "beta_gd = np.random.rand(1) # W\n",
        "bias = np.random.rand(1)    # 절편\n",
        "\n",
        "print(beta_gd, bias)\n"
      ],
      "metadata": {
        "colab": {
          "base_uri": "https://localhost:8080/"
        },
        "id": "vJk5vv28nMr3",
        "outputId": "2fa17ce2-4758-4d99-ff1a-c9300cc62f7b"
      },
      "execution_count": 26,
      "outputs": [
        {
          "output_type": "stream",
          "name": "stdout",
          "text": [
            "[0.049095] [0.30665116]\n"
          ]
        }
      ]
    },
    {
      "cell_type": "code",
      "source": [
        "# 5번 문항\n",
        "import numpy as np\n",
        "\n",
        "xy = np.array([[1., 2., 3., 4., 5., 6.],\n",
        "               [10., 20., 30., 40., 50., 60.]])\n",
        "x_train = xy[0]\n",
        "y_train = xy[1]\n",
        "\n",
        "beta_gd = np.random.rand(1)\n",
        "bias = np.random.rand(1)\n",
        "\n",
        "learning_rate = 0.001 # 학습률\n",
        "\n",
        "for i in range(1000) :\n",
        "    pred = (x_train * beta_gd) + bias  # x * 기울기 + 절편\n",
        "    error = ((pred - y_train) ** 2 ).mean() # 에러(목적식)는 차이의 제곱을 이용해서 계산\n",
        "\n",
        "    gd_w = ((pred - y_train) * 2 * x_train).mean() # ((y-y^)^2) w에 대한 편미분\n",
        "    gd_b = ((pred - y_train) * 2).mean() # ((y-y^)^2) b에 대한 편미분\n",
        "\n",
        "    beta_gd -= learning_rate * gd_w \n",
        "    bias -= learning_rate * gd_b\n",
        "\n",
        "    \n",
        "    if i % 100 == 0:\n",
        "        print('Epoch ({:10d}/1000) error: {:10f} , beta_gd : {: 10f} , bias : {:10f}'.format(i, error, beta_gd.item(), bias.item())) # 학습 100 단위로 error, 직선의 기울기. 절편 확인 "
      ],
      "metadata": {
        "colab": {
          "base_uri": "https://localhost:8080/"
        },
        "id": "zenu6U73nrr9",
        "outputId": "fae6d9a5-77af-4d4d-ac22-ce13712f081d"
      },
      "execution_count": 47,
      "outputs": [
        {
          "output_type": "stream",
          "name": "stdout",
          "text": [
            "Epoch (         0/1000) error: 1463.055637 , beta_gd :   0.445633 , bias :   0.201438\n",
            "Epoch (       100/1000) error:   3.155193 , beta_gd :   9.130491 , bias :   2.142832\n",
            "Epoch (       200/1000) error:   0.889183 , beta_gd :   9.485433 , bias :   2.141654\n",
            "Epoch (       300/1000) error:   0.823505 , beta_gd :   9.516443 , bias :   2.067826\n",
            "Epoch (       400/1000) error:   0.765525 , beta_gd :   9.534262 , bias :   1.993823\n",
            "Epoch (       500/1000) error:   0.711631 , beta_gd :   9.550975 , bias :   1.922363\n",
            "Epoch (       600/1000) error:   0.661531 , beta_gd :   9.567070 , bias :   1.853460\n",
            "Epoch (       700/1000) error:   0.614959 , beta_gd :   9.582587 , bias :   1.787027\n",
            "Epoch (       800/1000) error:   0.571665 , beta_gd :   9.597549 , bias :   1.722974\n",
            "Epoch (       900/1000) error:   0.531419 , beta_gd :   9.611974 , bias :   1.661218\n"
          ]
        }
      ]
    }
  ]
}