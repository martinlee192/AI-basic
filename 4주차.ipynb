{
  "nbformat": 4,
  "nbformat_minor": 0,
  "metadata": {
    "colab": {
      "name": "4주차.ipynb",
      "provenance": []
    },
    "kernelspec": {
      "name": "python3",
      "display_name": "Python 3"
    },
    "language_info": {
      "name": "python"
    }
  },
  "cells": [
    {
      "cell_type": "code",
      "execution_count": 2,
      "metadata": {
        "colab": {
          "base_uri": "https://localhost:8080/"
        },
        "id": "xPoQGNlJwFwx",
        "outputId": "06d0e808-e6c8-43c1-a677-870672e8fcb7"
      },
      "outputs": [
        {
          "output_type": "stream",
          "name": "stdout",
          "text": [
            "HDD    19\n",
            "SSD    11\n",
            "dtype: int64\n"
          ]
        }
      ],
      "source": [
        "# 1번 문항\n",
        "import pandas as pd\n",
        "\n",
        "idx =  [\"HDD\", \"SSD\", \"USB\", \"CLOUD\"]\n",
        "data = [19, 11, 5, 97]\n",
        "\n",
        "# 위 데이터로 Series를 구현해보세요.\n",
        "series = pd.Series(data, index = idx)\n",
        "\n",
        "# 10 이상 20 이하를 가지는 데이터만 이용해 다시  Series를 정의\n",
        "series = series[series >= 10][series <= 20]\n",
        "\n",
        "print(series)\n"
      ]
    },
    {
      "cell_type": "code",
      "source": [
        "# 2번 문항\n",
        "df1 = pd.DataFrame([[\"cherry\", \"Fruit\", 100],\n",
        "                 [\"mango\", \"Fruit\" , 110],\n",
        "                 [\"potato\", \"Vegetable\" , 60],\n",
        "                 [\"onion\", \"Vegetable\", 80]], \n",
        "                columns = [\"Name\",\"Type\",\"Price\"])\n",
        "df2 = pd.DataFrame([[\"pepper\", \"Vegetable\", 50],\n",
        "                 [\"carrot\", \"Vegetable\" , 70],\n",
        "                 [\"banana\", \"Fruit\" , 90],\n",
        "                 [\"kiwi\", \"Fruit\", 120]], \n",
        "                columns = [\"Name\", \"Type\", \"Price\"] )\n",
        "\n",
        "# df1, df2를 colums를 이용해 결합\n",
        "df3 = pd.concat([df1,df2], axis=0) #열방향 concat\n",
        "\n",
        "#Fruit vegetable의 type에 따라 정렬하고, 가격순으로 정리\n",
        "df_fruit = df3.loc[df3[\"Type\"]== \"Fruit\"]\n",
        "df_fruit = df_fruit.sort_values(by=\"Price\", ascending=False)\n",
        "\n",
        "df_veg = df3.loc[df3[\"Type\"]== \"Vegetable\"]\n",
        "df_veg = df_veg.sort_values(by=\"Price\", ascending=False)\n",
        "\n",
        "#fruit와 Vegetable 상위 2개 가격의 합을 출력\n",
        "print(\"Sum of Top 2 Fruit Price : \", sum(df_fruit[:2][\"Price\"] ))\n",
        "print(\"Sum of Top 2 Vegetable Price : \", sum(df_veg[:2][\"Price\"]))\n"
      ],
      "metadata": {
        "colab": {
          "base_uri": "https://localhost:8080/"
        },
        "id": "25-iNV-jxHWs",
        "outputId": "11054f56-065c-48aa-95ec-76d88957659a"
      },
      "execution_count": 17,
      "outputs": [
        {
          "output_type": "stream",
          "name": "stdout",
          "text": [
            "Sum of Top 2 Fruit Price :  230\n",
            "Sum of Top 2 Vegetable Price :  150\n"
          ]
        }
      ]
    },
    {
      "cell_type": "code",
      "source": [
        "#3번\n",
        "\n",
        "idx = [\"Sue\", \"Ryan\", \"Jay\", \"Jane\", \"Anna\"]\n",
        "col = [\"round_1\", \"round_2\", \"round_3\", \"round_4\", \"round_5\"]\n",
        "data = [[55, 65, 60, 66, 57],\n",
        "    [64, 77, 71, 79, 67],\n",
        "    [88, 81, 79, 89, 77],\n",
        "    [45, 35, 30, 46, 47],\n",
        "    [91, 96, 90, 96, 99]]\n",
        "\n",
        "#위 데이터를 이용해 dataframe을 구성하시오\n",
        "df = pd.DataFrame(data=data, index=idx, columns=col)\n",
        "\n",
        "#df에 새로운 column인 rount_6의 데이터 [11,15,13,17,19] 를 추가해 보시오\n",
        "col_round_6 = pd.Series([11,15,13,17,19], index = idx)\n",
        "df['round_6'] = col_round_6\n",
        "\n",
        "print(df)\n",
        "\n",
        "#각 데이터의 Mean Max Min 값을 구해 출력해보시오\n",
        "print(df.describe().loc[[\"mean\", \"min\", \"max\"]]) # describe()를 이용해 여기서 Min max Mean 을 구해준다.\n"
      ],
      "metadata": {
        "colab": {
          "base_uri": "https://localhost:8080/"
        },
        "id": "ySxiRDqO2TAJ",
        "outputId": "2fd54ce6-350d-4b6f-bcae-9bb90308c483"
      },
      "execution_count": 20,
      "outputs": [
        {
          "output_type": "stream",
          "name": "stdout",
          "text": [
            "      round_1  round_2  round_3  round_4  round_5  round_6\n",
            "Sue        55       65       60       66       57       11\n",
            "Ryan       64       77       71       79       67       15\n",
            "Jay        88       81       79       89       77       13\n",
            "Jane       45       35       30       46       47       17\n",
            "Anna       91       96       90       96       99       19\n",
            "      round_1  round_2  round_3  round_4  round_5  round_6\n",
            "mean     68.6     70.8     66.0     75.2     69.4     15.0\n",
            "min      45.0     35.0     30.0     46.0     47.0     11.0\n",
            "max      91.0     96.0     90.0     96.0     99.0     19.0\n"
          ]
        }
      ]
    },
    {
      "cell_type": "code",
      "source": [
        "# 4번 문항\n",
        "import numpy as np\n",
        "import matplotlib.pyplot as plt\n",
        "\n",
        "t = np.arange(0., 5., 0.2)\n",
        "\n",
        "# 마커는 다음과 같다 \n",
        "\n",
        "plt.plot(t, t,'r--', t, t**2,'gs', t, t**3, 'b^') \n",
        "plt.show()\n"
      ],
      "metadata": {
        "colab": {
          "base_uri": "https://localhost:8080/",
          "height": 265
        },
        "id": "RaQh2OWq4Q4P",
        "outputId": "87e24097-ad07-443d-d85f-8297a0c70442"
      },
      "execution_count": 28,
      "outputs": [
        {
          "output_type": "display_data",
          "data": {
            "image/png": "[encoded data removed]",
            "text/plain": [
              "<Figure size 432x288 with 1 Axes>"
            ]
          },
          "metadata": {
            "needs_background": "light"
          }
        }
      ]
    },
    {
      "cell_type": "code",
      "source": [
        "# 5번 문항\n",
        "\n",
        "names = ['group_a', 'group_b','group_c']\n",
        "values = [1, 10, 100]\n",
        "\n",
        "plt.figure(figsize=(9,3))\n",
        "\n",
        "plt.subplot(1,3,1) # 서브 플랏 1번 \n",
        "plt.bar(names, values) # 막대형\n",
        "plt.subplot(1,3,2) # 서브 플랏 2번 \n",
        "plt.scatter(names, values) # 분산형\n",
        "plt.subplot(1,3,3) # 서브 플랏 2번 \n",
        "plt.plot(names, values) # 선형\n",
        "\n",
        "plt.show()"
      ],
      "metadata": {
        "colab": {
          "base_uri": "https://localhost:8080/",
          "height": 212
        },
        "id": "cEOy1WUS54GZ",
        "outputId": "514c87cc-cae9-4a97-e27a-d4e61a1a6fd5"
      },
      "execution_count": 30,
      "outputs": [
        {
          "output_type": "display_data",
          "data": {
            "image/png": "[encoded data removed]",
            "text/plain": [
              "<Figure size 648x216 with 3 Axes>"
            ]
          },
          "metadata": {
            "needs_background": "light"
          }
        }
      ]
    }
  ]
}