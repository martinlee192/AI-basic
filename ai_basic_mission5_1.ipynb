{
  "nbformat": 4,
  "nbformat_minor": 0,
  "metadata": {
    "colab": {
      "name": "ai_basic_mission5_1.ipynb",
      "provenance": [],
      "collapsed_sections": [],
      "include_colab_link": true
    },
    "kernelspec": {
      "name": "python3",
      "display_name": "Python 3"
    },
    "language_info": {
      "name": "python"
    }
  },
  "cells": [
    {
      "cell_type": "markdown",
      "metadata": {
        "id": "view-in-github",
        "colab_type": "text"
      },
      "source": [
        "<a href=\"https://colab.research.google.com/github/martinlee192/AI-basic/blob/master/ai_basic_mission5_1.ipynb\" target=\"_parent\"><img src=\"https://colab.research.google.com/assets/colab-badge.svg\" alt=\"Open In Colab\"/></a>"
      ]
    },
    {
      "cell_type": "markdown",
      "source": [
        "Q1. 가장 먼저 학습 데이터를 준비해보도록 하겠습니다. MNIST 데이터셋을 직접 Load해 봅시다.\n",
        "\n",
        "데이터셋을 로드하고 DataLoader를 구현해보세요.\n",
        "\n",
        "DataLoader를 이용해 MNIST 데이터셋을 로드해봅시다."
      ],
      "metadata": {
        "id": "W5JhgOA2TeXr"
      }
    },
    {
      "cell_type": "code",
      "source": [
        "import torch\n",
        "import torch.nn as nn\n",
        "import torchvision.datasets as dset\n",
        "import torchvision.transforms as transforms\n",
        "from torch.utils.data import DataLoader\n",
        "\n",
        "root = './data'\n",
        "mnist_train = dset.MNIST(root=root, train=True, transform=transforms.ToTensor(), download=True)\n",
        "mnist_test = dset.MNIST(root=root, train=False, transform=transforms.ToTensor(), download=True)\n",
        "\n",
        "# data loader\n",
        "training_epochs = 15\n",
        "batch_size = 100\n",
        "train_loader = DataLoader(mnist_train, batch_size=batch_size, shuffle=True)\n",
        "test_loader = DataLoader(mnist_test, batch_size=batch_size, shuffle=False)\n"
      ],
      "metadata": {
        "id": "gNGcw4BYTjxx"
      },
      "execution_count": null,
      "outputs": []
    },
    {
      "cell_type": "markdown",
      "source": [
        "Q2.데이터가 준비가 되었다면, 이제 그 데이터를 학습할 모델을 구현할 차례입니다.\n",
        "\n",
        "그 후 모델 안의 가중치를 초기화시켜보세요.\n",
        "\n",
        "입력 데이터 형태에 맞도록 linear한 모델을 구성해보세요.\n",
        "\n",
        "MNIST 입력의 크기는 28x28입니다.\n",
        "\n",
        "여기서 구현하는 linear 모델은 입력이 1차원이기 때문에 입력 차원을 맞춰보세요."
      ],
      "metadata": {
        "id": "anSK6XdRTm25"
      }
    },
    {
      "cell_type": "code",
      "source": [
        "device = torch.device('cuda' if torch.cuda.is_available() else 'cpu')\n",
        "linear = torch.nn.Linear(784, 10, bias=True).to(device)\n",
        "torch.nn.init.normal_(linear.weight)"
      ],
      "metadata": {
        "colab": {
          "base_uri": "https://localhost:8080/"
        },
        "id": "W_vwHhNYTvh2",
        "outputId": "afb5bd45-9cfe-4706-cd77-c698753f6ca7"
      },
      "execution_count": null,
      "outputs": [
        {
          "output_type": "execute_result",
          "data": {
            "text/plain": [
              "Parameter containing:\n",
              "tensor([[ 0.6211,  0.0524,  2.1839,  ..., -0.9368,  0.0996,  1.0293],\n",
              "        [-0.4191, -0.5264,  1.5265,  ..., -0.1950,  0.6707,  0.5747],\n",
              "        [-1.4621, -0.5727,  0.6351,  ..., -0.4586, -0.1824, -0.6445],\n",
              "        ...,\n",
              "        [ 0.3259, -0.4568,  1.4383,  ...,  0.4484, -0.0428,  0.9264],\n",
              "        [-0.4592,  0.4501, -1.7533,  ...,  0.0556,  1.8174,  0.9317],\n",
              "        [ 0.4133,  0.5796,  1.4404,  ..., -0.6304,  0.6587, -0.4735]],\n",
              "       requires_grad=True)"
            ]
          },
          "metadata": {},
          "execution_count": 16
        }
      ]
    },
    {
      "cell_type": "markdown",
      "source": [
        "Q3. 위에서 구현한 모델을 학습시키기 위해서는 loss 함수와 opitmizer가 필요합니다.\n",
        "\n",
        "아래 제시된 loss 함수와 optimizer를 구현해보세요.\n",
        "\n",
        "Loss 함수와 optimizer는 모델 안의 가중치를 업데이트 할 때 사용됩니다.\n",
        "\n",
        "옵티마이저는 SGD, Loss는 Cross Entropy Loss를 사용합니다."
      ],
      "metadata": {
        "id": "LegKqKuqUAQ7"
      }
    },
    {
      "cell_type": "code",
      "source": [
        "# Loss fn - Cross Entropy Loss\n",
        "criterion = torch.nn.CrossEntropyLoss().to(device)\n",
        "\n",
        "# optimizer - SGD\n",
        "optimizer = torch.optim.SGD(linear.parameters(), lr=0.1)"
      ],
      "metadata": {
        "id": "tIqHezEdUEYN"
      },
      "execution_count": null,
      "outputs": []
    },
    {
      "cell_type": "markdown",
      "source": [
        "Q4. 3번 문제까지 해결하셨다면, 이제 학습을 위한 준비는 거의 끝났다고 볼 수 있습니다.\n",
        "\n",
        "위 구현 함수들을 이용해 학습 Loop를 구현해보세요.\n",
        "\n",
        "위에서 구현한 모델, optimzer, loss fn 등을 이용해 학습을 구현해주세요."
      ],
      "metadata": {
        "id": "TOr0suSiUKUR"
      }
    },
    {
      "cell_type": "code",
      "source": [
        "for epoch in range(training_epochs):\n",
        "    for i, (imgs, labels) in enumerate(train_loader):\n",
        "        imgs, labels = imgs.to(device), labels.to(device)\n",
        "        imgs = imgs.view(-1, 28 * 28)\n",
        "\n",
        "        outputs = linear(imgs)\n",
        "        loss = criterion(outputs, labels)\n",
        "\n",
        "        optimizer.zero_grad() # optimizer zero grad 구현\n",
        "        loss.backward() # loss backward 구현\n",
        "        optimizer.step() # optimizer step 구현\n",
        "\n",
        "        _, argmax = torch.max(outputs, 1)\n",
        "        accuracy = (labels == argmax).float().mean()\n",
        "\n",
        "        if (i+1) % 100 == 0:\n",
        "            print('Epoch [{}/{}], Step [{}/{}], Loss: {:.4f}, Accuracy: {:.2f}%'.format(\n",
        "                epoch+1, training_epochs, i+1, len(train_loader), loss.item(), accuracy.item() * 100))"
      ],
      "metadata": {
        "colab": {
          "base_uri": "https://localhost:8080/"
        },
        "id": "qxNpm0KqUOYJ",
        "outputId": "0ec905d8-b84d-497c-860c-a2ca6bde9d62"
      },
      "execution_count": null,
      "outputs": [
        {
          "output_type": "stream",
          "name": "stdout",
          "text": [
            "Epoch [1/15], Step [100/600], Loss: 3.4981, Accuracy: 50.00%\n",
            "Epoch [1/15], Step [200/600], Loss: 2.2592, Accuracy: 65.00%\n",
            "Epoch [1/15], Step [300/600], Loss: 1.8708, Accuracy: 64.00%\n",
            "Epoch [1/15], Step [400/600], Loss: 1.8271, Accuracy: 66.00%\n",
            "Epoch [1/15], Step [500/600], Loss: 1.1273, Accuracy: 76.00%\n",
            "Epoch [1/15], Step [600/600], Loss: 0.7022, Accuracy: 82.00%\n",
            "Epoch [2/15], Step [100/600], Loss: 1.4302, Accuracy: 76.00%\n",
            "Epoch [2/15], Step [200/600], Loss: 1.6130, Accuracy: 66.00%\n",
            "Epoch [2/15], Step [300/600], Loss: 0.8090, Accuracy: 85.00%\n",
            "Epoch [2/15], Step [400/600], Loss: 1.1238, Accuracy: 80.00%\n",
            "Epoch [2/15], Step [500/600], Loss: 1.2524, Accuracy: 81.00%\n",
            "Epoch [2/15], Step [600/600], Loss: 1.1085, Accuracy: 77.00%\n",
            "Epoch [3/15], Step [100/600], Loss: 1.1797, Accuracy: 83.00%\n",
            "Epoch [3/15], Step [200/600], Loss: 1.0209, Accuracy: 83.00%\n",
            "Epoch [3/15], Step [300/600], Loss: 0.7149, Accuracy: 86.00%\n",
            "Epoch [3/15], Step [400/600], Loss: 0.8910, Accuracy: 88.00%\n",
            "Epoch [3/15], Step [500/600], Loss: 0.6909, Accuracy: 83.00%\n",
            "Epoch [3/15], Step [600/600], Loss: 0.6653, Accuracy: 80.00%\n",
            "Epoch [4/15], Step [100/600], Loss: 1.1094, Accuracy: 81.00%\n",
            "Epoch [4/15], Step [200/600], Loss: 0.8009, Accuracy: 85.00%\n",
            "Epoch [4/15], Step [300/600], Loss: 0.4485, Accuracy: 90.00%\n",
            "Epoch [4/15], Step [400/600], Loss: 0.6247, Accuracy: 88.00%\n",
            "Epoch [4/15], Step [500/600], Loss: 0.6454, Accuracy: 85.00%\n",
            "Epoch [4/15], Step [600/600], Loss: 0.3314, Accuracy: 93.00%\n",
            "Epoch [5/15], Step [100/600], Loss: 0.7789, Accuracy: 80.00%\n",
            "Epoch [5/15], Step [200/600], Loss: 0.6856, Accuracy: 84.00%\n",
            "Epoch [5/15], Step [300/600], Loss: 0.9619, Accuracy: 84.00%\n",
            "Epoch [5/15], Step [400/600], Loss: 0.5657, Accuracy: 85.00%\n",
            "Epoch [5/15], Step [500/600], Loss: 0.5999, Accuracy: 83.00%\n",
            "Epoch [5/15], Step [600/600], Loss: 0.8311, Accuracy: 84.00%\n",
            "Epoch [6/15], Step [100/600], Loss: 1.0624, Accuracy: 88.00%\n",
            "Epoch [6/15], Step [200/600], Loss: 0.2943, Accuracy: 93.00%\n",
            "Epoch [6/15], Step [300/600], Loss: 0.3959, Accuracy: 87.00%\n",
            "Epoch [6/15], Step [400/600], Loss: 0.5507, Accuracy: 84.00%\n",
            "Epoch [6/15], Step [500/600], Loss: 0.8217, Accuracy: 83.00%\n",
            "Epoch [6/15], Step [600/600], Loss: 0.2245, Accuracy: 93.00%\n",
            "Epoch [7/15], Step [100/600], Loss: 0.8836, Accuracy: 86.00%\n",
            "Epoch [7/15], Step [200/600], Loss: 0.6571, Accuracy: 87.00%\n",
            "Epoch [7/15], Step [300/600], Loss: 0.5214, Accuracy: 89.00%\n",
            "Epoch [7/15], Step [400/600], Loss: 0.6585, Accuracy: 86.00%\n",
            "Epoch [7/15], Step [500/600], Loss: 0.5740, Accuracy: 90.00%\n",
            "Epoch [7/15], Step [600/600], Loss: 0.3475, Accuracy: 91.00%\n",
            "Epoch [8/15], Step [100/600], Loss: 0.4649, Accuracy: 89.00%\n",
            "Epoch [8/15], Step [200/600], Loss: 0.7306, Accuracy: 88.00%\n",
            "Epoch [8/15], Step [300/600], Loss: 0.4345, Accuracy: 89.00%\n",
            "Epoch [8/15], Step [400/600], Loss: 0.4312, Accuracy: 89.00%\n",
            "Epoch [8/15], Step [500/600], Loss: 0.4698, Accuracy: 88.00%\n",
            "Epoch [8/15], Step [600/600], Loss: 0.8856, Accuracy: 83.00%\n",
            "Epoch [9/15], Step [100/600], Loss: 0.6093, Accuracy: 83.00%\n",
            "Epoch [9/15], Step [200/600], Loss: 0.4418, Accuracy: 85.00%\n",
            "Epoch [9/15], Step [300/600], Loss: 0.5792, Accuracy: 82.00%\n",
            "Epoch [9/15], Step [400/600], Loss: 0.2678, Accuracy: 91.00%\n",
            "Epoch [9/15], Step [500/600], Loss: 0.3186, Accuracy: 87.00%\n",
            "Epoch [9/15], Step [600/600], Loss: 0.3022, Accuracy: 89.00%\n",
            "Epoch [10/15], Step [100/600], Loss: 0.4046, Accuracy: 90.00%\n",
            "Epoch [10/15], Step [200/600], Loss: 0.3646, Accuracy: 93.00%\n",
            "Epoch [10/15], Step [300/600], Loss: 0.3716, Accuracy: 87.00%\n",
            "Epoch [10/15], Step [400/600], Loss: 0.7888, Accuracy: 83.00%\n",
            "Epoch [10/15], Step [500/600], Loss: 0.2248, Accuracy: 92.00%\n",
            "Epoch [10/15], Step [600/600], Loss: 0.2504, Accuracy: 91.00%\n",
            "Epoch [11/15], Step [100/600], Loss: 0.2617, Accuracy: 93.00%\n",
            "Epoch [11/15], Step [200/600], Loss: 0.5569, Accuracy: 84.00%\n",
            "Epoch [11/15], Step [300/600], Loss: 0.5063, Accuracy: 90.00%\n",
            "Epoch [11/15], Step [400/600], Loss: 0.7524, Accuracy: 86.00%\n",
            "Epoch [11/15], Step [500/600], Loss: 0.3702, Accuracy: 93.00%\n",
            "Epoch [11/15], Step [600/600], Loss: 0.6865, Accuracy: 81.00%\n",
            "Epoch [12/15], Step [100/600], Loss: 0.3278, Accuracy: 91.00%\n",
            "Epoch [12/15], Step [200/600], Loss: 0.3568, Accuracy: 90.00%\n",
            "Epoch [12/15], Step [300/600], Loss: 0.7159, Accuracy: 86.00%\n",
            "Epoch [12/15], Step [400/600], Loss: 0.5173, Accuracy: 85.00%\n",
            "Epoch [12/15], Step [500/600], Loss: 0.4775, Accuracy: 88.00%\n",
            "Epoch [12/15], Step [600/600], Loss: 0.3135, Accuracy: 93.00%\n",
            "Epoch [13/15], Step [100/600], Loss: 0.7679, Accuracy: 80.00%\n",
            "Epoch [13/15], Step [200/600], Loss: 0.3481, Accuracy: 91.00%\n",
            "Epoch [13/15], Step [300/600], Loss: 0.5873, Accuracy: 86.00%\n",
            "Epoch [13/15], Step [400/600], Loss: 0.2428, Accuracy: 91.00%\n",
            "Epoch [13/15], Step [500/600], Loss: 0.4620, Accuracy: 87.00%\n",
            "Epoch [13/15], Step [600/600], Loss: 0.5679, Accuracy: 86.00%\n",
            "Epoch [14/15], Step [100/600], Loss: 0.4766, Accuracy: 86.00%\n",
            "Epoch [14/15], Step [200/600], Loss: 0.6232, Accuracy: 83.00%\n",
            "Epoch [14/15], Step [300/600], Loss: 0.1675, Accuracy: 94.00%\n",
            "Epoch [14/15], Step [400/600], Loss: 0.3845, Accuracy: 92.00%\n",
            "Epoch [14/15], Step [500/600], Loss: 0.4425, Accuracy: 87.00%\n",
            "Epoch [14/15], Step [600/600], Loss: 0.3961, Accuracy: 90.00%\n",
            "Epoch [15/15], Step [100/600], Loss: 0.6141, Accuracy: 79.00%\n",
            "Epoch [15/15], Step [200/600], Loss: 0.4259, Accuracy: 89.00%\n",
            "Epoch [15/15], Step [300/600], Loss: 0.5567, Accuracy: 87.00%\n",
            "Epoch [15/15], Step [400/600], Loss: 0.7243, Accuracy: 89.00%\n",
            "Epoch [15/15], Step [500/600], Loss: 0.4065, Accuracy: 89.00%\n",
            "Epoch [15/15], Step [600/600], Loss: 0.4769, Accuracy: 85.00%\n"
          ]
        }
      ]
    },
    {
      "cell_type": "markdown",
      "source": [
        "Q5. 학습이 완료되면, 모델이 잘 동작하는지 테스트가 필요합니다.\n",
        "\n",
        "데이터로드 파트에서 준비했던 테스트 데이터를 이용해 테스트를 진행해봅시다.\n",
        "\n",
        "아래 테스트 코드를 완성해보세요."
      ],
      "metadata": {
        "id": "kqrafXQUUQ4O"
      }
    },
    {
      "cell_type": "code",
      "source": [
        "linear.eval()\n",
        "with torch.no_grad():\n",
        "    correct = 0\n",
        "    total = 0\n",
        "    for i, (imgs, labels) in enumerate(test_loader):\n",
        "        imgs, labels = imgs.to(device), labels.to(device)\n",
        "        imgs = imgs.view(-1, 28 * 28)\n",
        "\n",
        "        output = linear(imgs)\n",
        "\n",
        "        _, argmax = torch.max(outputs, 1) # max()를 통해 최종 출력이 가장 높은 class 선택\n",
        "        total += imgs.size(0)\n",
        "        correct += (labels == argmax).sum().item()\n",
        "    \n",
        "    print('Test accuracy for {} images: {:.2f}%'.format(total, correct / total * 100))"
      ],
      "metadata": {
        "colab": {
          "base_uri": "https://localhost:8080/"
        },
        "id": "CAPf0vjyUVcP",
        "outputId": "bf1db6e0-9347-417e-e0de-f0ae04508b98"
      },
      "execution_count": null,
      "outputs": [
        {
          "output_type": "stream",
          "name": "stdout",
          "text": [
            "Test accuracy for 10000 images: 10.24%\n"
          ]
        }
      ]
    }
  ]
}