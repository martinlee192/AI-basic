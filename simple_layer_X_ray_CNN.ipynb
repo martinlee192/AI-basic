{
  "cells": [
    {
      "cell_type": "markdown",
      "metadata": {
        "id": "view-in-github",
        "colab_type": "text"
      },
      "source": [
        "<a href=\"https://colab.research.google.com/github/martinlee192/AI-basic/blob/master/simple_layer_X_ray_CNN.ipynb\" target=\"_parent\"><img src=\"https://colab.research.google.com/assets/colab-badge.svg\" alt=\"Open In Colab\"/></a>"
      ]
    },
    {
      "cell_type": "code",
      "execution_count": 2,
      "id": "59228834",
      "metadata": {
        "id": "59228834"
      },
      "outputs": [],
      "source": [
        "import torch\n",
        "import torch.nn as nn\n",
        "import torch.nn.functional as F\n",
        "\n",
        "import torch.optim as optim\n",
        "from torch.utils.data import DataLoader\n",
        "\n",
        "import torchvision\n",
        "import torchvision.transforms as transforms"
      ]
    },
    {
      "cell_type": "code",
      "execution_count": 3,
      "id": "276382f9",
      "metadata": {
        "colab": {
          "base_uri": "https://localhost:8080/"
        },
        "id": "276382f9",
        "outputId": "cc28c62d-b818-446e-a6f9-dbc98df848ac"
      },
      "outputs": [
        {
          "output_type": "stream",
          "name": "stdout",
          "text": [
            "cuda\n"
          ]
        }
      ],
      "source": [
        "device = 'cuda' if torch.cuda.is_available() else 'cpu'\n",
        "\n",
        "torch.manual_seed(777)\n",
        "if device =='cuda':\n",
        "    torch.cuda.manual_seed_all(777)\n",
        "print(device)"
      ]
    },
    {
      "cell_type": "code",
      "source": [
        "from google.colab import drive\n",
        "drive.mount('/gdrive')\n",
        "!dir /gdrive/MyDrive/data"
      ],
      "metadata": {
        "colab": {
          "base_uri": "https://localhost:8080/"
        },
        "id": "wfsWymAYexC_",
        "outputId": "95530d44-4c22-4de6-9ef6-ab0eebb01167"
      },
      "id": "wfsWymAYexC_",
      "execution_count": 5,
      "outputs": [
        {
          "output_type": "stream",
          "name": "stdout",
          "text": [
            "Mounted at /gdrive\n",
            "x_ray_test_data  x_ray_test_data.zip  x_ray_train_data\n"
          ]
        }
      ]
    },
    {
      "cell_type": "code",
      "execution_count": 6,
      "id": "aa9df6a8",
      "metadata": {
        "id": "aa9df6a8"
      },
      "outputs": [],
      "source": [
        "trans = transforms.Compose([\n",
        "    transforms.ToTensor()\n",
        "])\n",
        "\n",
        "train_data = torchvision.datasets.ImageFolder(root='/gdrive/MyDrive/data/x_ray_train_data', transform=trans)"
      ]
    },
    {
      "cell_type": "code",
      "execution_count": 7,
      "id": "b428e90b",
      "metadata": {
        "id": "b428e90b"
      },
      "outputs": [],
      "source": [
        "data_loader = DataLoader(dataset = train_data, batch_size = 8, shuffle = True, num_workers=2)"
      ]
    },
    {
      "cell_type": "code",
      "execution_count": 8,
      "id": "65887b8f",
      "metadata": {
        "id": "65887b8f"
      },
      "outputs": [],
      "source": [
        "class CNN(nn.Module):\n",
        "    def __init__(self):\n",
        "        super(CNN, self).__init__()\n",
        "        self.layer1 = nn.Sequential(\n",
        "            nn.Conv2d(3,6,5),#224-5+1 = 220\n",
        "            nn.ReLU(),\n",
        "            nn.MaxPool2d(2), # 110\n",
        "        )\n",
        "        self.layer2 = nn.Sequential(\n",
        "            nn.Conv2d(6,16,5), #110-5+1 = 1\n",
        "            nn.ReLU(),\n",
        "            nn.MaxPool2d(2),#58 \n",
        "        )\n",
        "        self.layer3 = nn.Sequential(\n",
        "            nn.Linear(16*53*53, 120),\n",
        "            nn.ReLU(),\n",
        "            nn.Linear(120,2)\n",
        "        )\n",
        "        \n",
        "    def forward(self, x):\n",
        "        out = self.layer1(x)\n",
        "        #print(out.shape)           \n",
        "        out = self.layer2(out)\n",
        "        #print(out.shape)\n",
        "        out = out.view(out.shape[0], -1)\n",
        "        #print(out.shape)\n",
        "        out = self.layer3(out)\n",
        "        return out\n",
        "        "
      ]
    },
    {
      "cell_type": "code",
      "execution_count": 9,
      "id": "7cc95bc7",
      "metadata": {
        "id": "7cc95bc7"
      },
      "outputs": [],
      "source": [
        "#Test\n",
        "net = CNN().to(device)\n",
        "test_input = (torch.Tensor(3,3,224,224)).to(device)\n",
        "test_out = net(test_input)"
      ]
    },
    {
      "cell_type": "code",
      "execution_count": 10,
      "id": "044112e0",
      "metadata": {
        "id": "044112e0"
      },
      "outputs": [],
      "source": [
        "optimizer = optim.Adam(net.parameters(), lr=0.00005)\n",
        "loss_func = nn.CrossEntropyLoss().to(device)"
      ]
    },
    {
      "cell_type": "code",
      "execution_count": 11,
      "id": "fa95830e",
      "metadata": {
        "colab": {
          "base_uri": "https://localhost:8080/"
        },
        "id": "fa95830e",
        "outputId": "ab804caa-b286-49ad-9b17-8adaad54934f"
      },
      "outputs": [
        {
          "output_type": "stream",
          "name": "stdout",
          "text": [
            "[Epoch:1] cost = 0.2780904173851013\n",
            "[Epoch:2] cost = 0.13469533622264862\n",
            "[Epoch:3] cost = 0.1176791563630104\n",
            "[Epoch:4] cost = 0.10116229206323624\n",
            "[Epoch:5] cost = 0.09096332639455795\n",
            "[Epoch:6] cost = 0.08385280519723892\n",
            "[Epoch:7] cost = 0.07241908460855484\n",
            "[Epoch:8] cost = 0.06812445819377899\n",
            "[Epoch:9] cost = 0.06025095656514168\n",
            "[Epoch:10] cost = 0.05087011307477951\n",
            "[Epoch:11] cost = 0.047803282737731934\n",
            "[Epoch:12] cost = 0.04397217929363251\n",
            "[Epoch:13] cost = 0.035734307020902634\n",
            "[Epoch:14] cost = 0.03116600774228573\n",
            "[Epoch:15] cost = 0.024433951824903488\n",
            "[Epoch:16] cost = 0.023536086082458496\n",
            "[Epoch:17] cost = 0.022982995957136154\n",
            "[Epoch:18] cost = 0.014400738291442394\n",
            "[Epoch:19] cost = 0.013335677795112133\n",
            "[Epoch:20] cost = 0.012451263144612312\n",
            "Learning Finished!\n"
          ]
        }
      ],
      "source": [
        "total_batch = len(data_loader)\n",
        "\n",
        "epochs = 20\n",
        "for epoch in range(epochs):\n",
        "    avg_cost = 0.0\n",
        "    for num, data in enumerate(data_loader):\n",
        "        imgs, labels = data\n",
        "        imgs = imgs.to(device)\n",
        "        labels = labels.to(device)\n",
        "        optimizer.zero_grad()\n",
        "        out = net(imgs)\n",
        "        loss = loss_func(out, labels)\n",
        "        loss.backward()\n",
        "        optimizer.step()\n",
        "        \n",
        "        avg_cost += loss / total_batch\n",
        "        \n",
        "    print('[Epoch:{}] cost = {}'.format(epoch+1, avg_cost))\n",
        "print('Learning Finished!')  "
      ]
    },
    {
      "cell_type": "code",
      "execution_count": 12,
      "id": "3382264e",
      "metadata": {
        "id": "3382264e"
      },
      "outputs": [],
      "source": [
        "torch.save(net.state_dict(),\"/gdrive/MyDrive/data/model_simple_layer_20epoch.pth\")"
      ]
    },
    {
      "cell_type": "code",
      "execution_count": 13,
      "id": "a9edda84",
      "metadata": {
        "id": "a9edda84"
      },
      "outputs": [],
      "source": [
        "new_net = CNN().to(device)"
      ]
    },
    {
      "cell_type": "code",
      "execution_count": 14,
      "id": "a208d8e0",
      "metadata": {
        "colab": {
          "base_uri": "https://localhost:8080/"
        },
        "id": "a208d8e0",
        "outputId": "2e8accdd-1139-44dc-e560-9d25f167ab65"
      },
      "outputs": [
        {
          "output_type": "execute_result",
          "data": {
            "text/plain": [
              "<All keys matched successfully>"
            ]
          },
          "metadata": {},
          "execution_count": 14
        }
      ],
      "source": [
        "new_net.load_state_dict(torch.load('/gdrive/MyDrive/data/model_simple_layer_20epoch.pth'))"
      ]
    },
    {
      "cell_type": "code",
      "execution_count": 16,
      "id": "c500149f",
      "metadata": {
        "id": "c500149f"
      },
      "outputs": [],
      "source": [
        "test_data = torchvision.datasets.ImageFolder(root='/gdrive/MyDrive/data/x_ray_test_data', transform=trans)"
      ]
    },
    {
      "cell_type": "code",
      "execution_count": 17,
      "id": "e698a7d3",
      "metadata": {
        "id": "e698a7d3"
      },
      "outputs": [],
      "source": [
        "test_set = DataLoader(dataset = test_data, batch_size = len(test_data))"
      ]
    },
    {
      "cell_type": "code",
      "execution_count": 18,
      "id": "b72e6074",
      "metadata": {
        "colab": {
          "base_uri": "https://localhost:8080/"
        },
        "id": "b72e6074",
        "outputId": "0cec60f5-0cfa-4fad-b885-89b2249dbac1"
      },
      "outputs": [
        {
          "output_type": "stream",
          "name": "stdout",
          "text": [
            "Accuracy: 0.7644230723381042\n"
          ]
        }
      ],
      "source": [
        "with torch.no_grad():\n",
        "    for num, data in enumerate(test_set):\n",
        "        imgs, label = data\n",
        "        imgs = imgs.to(device)\n",
        "        label = label.to(device)\n",
        "        \n",
        "        prediction = net(imgs)\n",
        "        \n",
        "        correct_prediction = torch.argmax(prediction, 1) == label\n",
        "        \n",
        "        accuracy = correct_prediction.float().mean()\n",
        "        print('Accuracy:', accuracy.item())"
      ]
    }
  ],
  "metadata": {
    "kernelspec": {
      "display_name": "Python 3",
      "language": "python",
      "name": "python3"
    },
    "language_info": {
      "codemirror_mode": {
        "name": "ipython",
        "version": 3
      },
      "file_extension": ".py",
      "mimetype": "text/x-python",
      "name": "python",
      "nbconvert_exporter": "python",
      "pygments_lexer": "ipython3",
      "version": "3.8.8"
    },
    "colab": {
      "name": "simple layer X-ray CNN.ipynb",
      "provenance": [],
      "include_colab_link": true
    },
    "accelerator": "GPU",
    "gpuClass": "standard"
  },
  "nbformat": 4,
  "nbformat_minor": 5
}