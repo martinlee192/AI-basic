{
  "nbformat": 4,
  "nbformat_minor": 0,
  "metadata": {
    "colab": {
      "name": "미니배치를 활용한 gradient decent.ipynb",
      "provenance": [],
      "collapsed_sections": [],
      "mount_file_id": "1oiMwtUpGfcCMeXNvMMIIBHybB4R0iSNZ",
      "authorship_tag": "ABX9TyMW7dmGFw6toSoCQ/YA5x7s",
      "include_colab_link": true
    },
    "kernelspec": {
      "name": "python3",
      "display_name": "Python 3"
    },
    "language_info": {
      "name": "python"
    }
  },
  "cells": [
    {
      "cell_type": "markdown",
      "metadata": {
        "id": "view-in-github",
        "colab_type": "text"
      },
      "source": [
        "<a href=\"https://colab.research.google.com/github/martinlee192/AI-basic/blob/master/%EB%AF%B8%EB%8B%88%EB%B0%B0%EC%B9%98%EB%A5%BC_%ED%99%9C%EC%9A%A9%ED%95%9C_gradient_decent.ipynb\" target=\"_parent\"><img src=\"https://colab.research.google.com/assets/colab-badge.svg\" alt=\"Open In Colab\"/></a>"
      ]
    },
    {
      "cell_type": "markdown",
      "source": [
        "**Load Data**"
      ],
      "metadata": {
        "id": "OSNTAy5-tcD9"
      }
    },
    {
      "cell_type": "code",
      "execution_count": 3,
      "metadata": {
        "id": "-EH5I5sJKkH8"
      },
      "outputs": [],
      "source": [
        "import torch\n",
        "import torch.nn as nn\n",
        "import torch.nn.functional as F\n",
        "import torch.optim as optim\n"
      ]
    },
    {
      "cell_type": "code",
      "source": [
        "torch.manual_seed(1)"
      ],
      "metadata": {
        "colab": {
          "base_uri": "https://localhost:8080/"
        },
        "id": "M1IZKDkAe4AQ",
        "outputId": "14867e9f-d84e-4aa4-b1fc-7247fedac780"
      },
      "execution_count": 4,
      "outputs": [
        {
          "output_type": "execute_result",
          "data": {
            "text/plain": [
              "<torch._C.Generator at 0x7f1c3d94f510>"
            ]
          },
          "metadata": {},
          "execution_count": 4
        }
      ]
    },
    {
      "cell_type": "code",
      "source": [
        "import numpy as np"
      ],
      "metadata": {
        "id": "JKbtKqiie6lX"
      },
      "execution_count": 5,
      "outputs": []
    },
    {
      "cell_type": "code",
      "source": [
        "xy = np.loadtxt('/content/drive/MyDrive/DeepLearningExample/data-01-test-score.csv', delimiter=',', dtype=np.float32)\n"
      ],
      "metadata": {
        "id": "E8RojqkLfQye"
      },
      "execution_count": 6,
      "outputs": []
    },
    {
      "cell_type": "code",
      "source": [
        "x_data = xy[:, 0:-1]\n",
        "y_data = xy[:, [-1]]\n",
        "print(y_data)"
      ],
      "metadata": {
        "id": "YbhE3UMTjK5G",
        "colab": {
          "base_uri": "https://localhost:8080/"
        },
        "outputId": "f6c51dd5-527e-46e4-e8df-50e84e1641e3"
      },
      "execution_count": 11,
      "outputs": [
        {
          "output_type": "stream",
          "name": "stdout",
          "text": [
            "[[152.]\n",
            " [185.]\n",
            " [180.]\n",
            " [196.]\n",
            " [142.]\n",
            " [101.]\n",
            " [149.]\n",
            " [115.]\n",
            " [175.]\n",
            " [164.]\n",
            " [141.]\n",
            " [141.]\n",
            " [184.]\n",
            " [152.]\n",
            " [148.]\n",
            " [192.]\n",
            " [147.]\n",
            " [183.]\n",
            " [177.]\n",
            " [159.]\n",
            " [177.]\n",
            " [175.]\n",
            " [175.]\n",
            " [149.]\n",
            " [192.]]\n"
          ]
        }
      ]
    },
    {
      "cell_type": "markdown",
      "source": [
        "**복습 1**"
      ],
      "metadata": {
        "id": "D6_xFHCPXG_6"
      }
    },
    {
      "cell_type": "code",
      "source": [
        "# 데이터\n",
        "x_train = torch.FloatTensor(x_data)\n",
        "y_train = torch.FloatTensor(y_data)\n",
        "\n",
        "# 모델 초기화\n",
        "W = torch.zeros((3,1), requires_grad=True)\n",
        "b = torch.zeros(1, requires_grad=True)\n",
        "\n",
        "#optimizer 설정\n",
        "optimizer = optim.SGD([W,b], lr= 1e-5)\n",
        "\n",
        "nb_epoch = 20\n",
        "for epoch in range(nb_epoch +1) :\n",
        "\n",
        "    #H(x) 계산\n",
        "    hypothesis = x_train.matmul(W) + b\n",
        "\n",
        "    #Cost 계산\n",
        "    cost = torch.mean((hypothesis - y_train)**2)\n",
        "\n",
        "    #Cost로 H(x) 개선\n",
        "    optimizer.zero_grad()\n",
        "    cost.backward()\n",
        "    optimizer.step()\n",
        "\n",
        "    # 100번마다 로그 출력\n",
        "    print('Epoch {:4d}/{} Cost: {:.6f}'.format(epoch, nb_epoch, cost.item()))\n"
      ],
      "metadata": {
        "colab": {
          "base_uri": "https://localhost:8080/"
        },
        "id": "N1uYhYg1Ux1Z",
        "outputId": "aab13a39-c9ab-4b2b-9d76-57464ad498f8"
      },
      "execution_count": 14,
      "outputs": [
        {
          "output_type": "stream",
          "name": "stdout",
          "text": [
            "Epoch    0/20 Cost: 26811.960938\n",
            "Epoch    1/20 Cost: 9920.530273\n",
            "Epoch    2/20 Cost: 3675.298340\n",
            "Epoch    3/20 Cost: 1366.260498\n",
            "Epoch    4/20 Cost: 512.542480\n",
            "Epoch    5/20 Cost: 196.896637\n",
            "Epoch    6/20 Cost: 80.190987\n",
            "Epoch    7/20 Cost: 37.038696\n",
            "Epoch    8/20 Cost: 21.081343\n",
            "Epoch    9/20 Cost: 15.178760\n",
            "Epoch   10/20 Cost: 12.993679\n",
            "Epoch   11/20 Cost: 12.183023\n",
            "Epoch   12/20 Cost: 11.880535\n",
            "Epoch   13/20 Cost: 11.765958\n",
            "Epoch   14/20 Cost: 11.720851\n",
            "Epoch   15/20 Cost: 11.701438\n",
            "Epoch   16/20 Cost: 11.691514\n",
            "Epoch   17/20 Cost: 11.685116\n",
            "Epoch   18/20 Cost: 11.680005\n",
            "Epoch   19/20 Cost: 11.675380\n",
            "Epoch   20/20 Cost: 11.670952\n"
          ]
        }
      ]
    },
    {
      "cell_type": "markdown",
      "source": [
        "**복습 2** High-level implementation with nn.module"
      ],
      "metadata": {
        "id": "tTJiiHzdWtex"
      }
    },
    {
      "cell_type": "code",
      "source": [
        "class MultivariateLinearRegressionModel(nn.Module):\n",
        "    def __init__(self):\n",
        "        super().__init__()\n",
        "        self.linear = nn.Linear(3,1)\n",
        "\n",
        "    def forward(self, x):\n",
        "        return self.linear(x)\n",
        "        \n",
        "\n"
      ],
      "metadata": {
        "id": "wH1RcQtAXXdJ"
      },
      "execution_count": 18,
      "outputs": []
    },
    {
      "cell_type": "code",
      "source": [
        "# 데이터\n",
        "x_train = torch.FloatTensor(x_data)\n",
        "y_train = torch.FloatTensor(y_data)\n",
        "\n",
        "# 모델 초기화\n",
        "model = MultivariateLinearRegressionModel()\n",
        "# optimizer 설정\n",
        "optimizer = optim.SGD(model.parameters(), lr=1e-5)\n",
        "\n",
        "nb_epochs = 20\n",
        "for epoch in range(nb_epochs+1):\n",
        "    \n",
        "    # H(x) 계산\n",
        "    prediction = model(x_train)\n",
        "    \n",
        "    # cost 계산\n",
        "    cost = F.mse_loss(prediction, y_train)\n",
        "    \n",
        "    # cost로 H(x) 개선\n",
        "    optimizer.zero_grad()\n",
        "    cost.backward()\n",
        "    optimizer.step()\n",
        "    \n",
        "    # 20번마다 로그 출력\n",
        "    print('Epoch {:4d}/{} Cost: {:.6f}'.format(\n",
        "        epoch, nb_epochs, cost.item()\n",
        "    ))"
      ],
      "metadata": {
        "colab": {
          "base_uri": "https://localhost:8080/"
        },
        "id": "RlOi-i5tWrV5",
        "outputId": "1243a927-4d0c-485c-cec4-2477b22c9586"
      },
      "execution_count": 20,
      "outputs": [
        {
          "output_type": "stream",
          "name": "stdout",
          "text": [
            "Epoch    0/20 Cost: 22444.050781\n",
            "Epoch    1/20 Cost: 8304.253906\n",
            "Epoch    2/20 Cost: 3076.377197\n",
            "Epoch    3/20 Cost: 1143.485474\n",
            "Epoch    4/20 Cost: 428.840912\n",
            "Epoch    5/20 Cost: 164.614960\n",
            "Epoch    6/20 Cost: 66.922005\n",
            "Epoch    7/20 Cost: 30.800661\n",
            "Epoch    8/20 Cost: 17.444128\n",
            "Epoch    9/20 Cost: 12.504412\n",
            "Epoch   10/20 Cost: 10.676523\n",
            "Epoch   11/20 Cost: 9.999249\n",
            "Epoch   12/20 Cost: 9.747339\n",
            "Epoch   13/20 Cost: 9.652740\n",
            "Epoch   14/20 Cost: 9.616273\n",
            "Epoch   15/20 Cost: 9.601300\n",
            "Epoch   16/20 Cost: 9.594303\n",
            "Epoch   17/20 Cost: 9.590237\n",
            "Epoch   18/20 Cost: 9.587271\n",
            "Epoch   19/20 Cost: 9.584668\n",
            "Epoch   20/20 Cost: 9.582247\n"
          ]
        }
      ]
    },
    {
      "cell_type": "markdown",
      "source": [
        "Dataset and DataLoader"
      ],
      "metadata": {
        "id": "ZUZZlCqDd5hJ"
      }
    },
    {
      "cell_type": "code",
      "source": [
        "from torch.utils.data import Dataset, DataLoader"
      ],
      "metadata": {
        "id": "QDSTwYVDd1ux"
      },
      "execution_count": 21,
      "outputs": []
    },
    {
      "cell_type": "code",
      "source": [
        "class CustomDataset(Dataset):\n",
        "    def __init__(self):\n",
        "        self.x_data = [[73, 80, 75],\n",
        "                       [93, 88, 93],\n",
        "                       [89, 91, 90],\n",
        "                       [96, 98, 100],\n",
        "                       [73, 66, 70],\n",
        "                       [53, 46, 55],\n",
        "                       [69, 74, 77]]\n",
        "        self.y_data = [[152], [185], [180], [196], [142],[101],[149]]\n",
        "\n",
        "    def __len__(self):\n",
        "        return len(self.x_data)\n",
        "    \n",
        "    def __getitem__(self,idx):\n",
        "        x = torch.FloatTensor(self.x_data[idx])\n",
        "        y = torch.FloatTensor(self.y_data[idx])\n",
        "\n",
        "        return x,y\n"
      ],
      "metadata": {
        "id": "Zm9BAZxaeLCX"
      },
      "execution_count": 34,
      "outputs": []
    },
    {
      "cell_type": "code",
      "source": [
        "dataset = CustomDataset()\n",
        "dataloader = DataLoader(dataset, batch_size=4 , shuffle=True)\n"
      ],
      "metadata": {
        "id": "q7Yp-7VCe_Do"
      },
      "execution_count": 37,
      "outputs": []
    },
    {
      "cell_type": "markdown",
      "source": [
        "Dataloader를 이용해 미니배치 그레디언트 해보기\n"
      ],
      "metadata": {
        "id": "pAF8Rl8bfqbo"
      }
    },
    {
      "cell_type": "code",
      "source": [
        "model = MultivariateLinearRegressionModel()\n",
        "optimizer = optim.SGD(model.parameters(), lr= 1e-5)\n",
        "\n",
        "nb_epochs = 20\n",
        "for epoch in range(nb_epochs +1):\n",
        "    for batch_idx, sample in enumerate(dataloader):\n",
        "        x_train, y_train = sample\n",
        "\n",
        "        #H(x)\n",
        "        prediction = model(x_train)\n",
        "\n",
        "        #cost\n",
        "        cost = F.mse_loss(prediction, y_train)\n",
        "\n",
        "        #cost로 H(x) 개선\n",
        "        optimizer.zero_grad()\n",
        "        cost.backward()\n",
        "        optimizer.step()\n",
        "\n",
        "        print('Epoch {:4d}/{} Batch {}/{} Cost: {:.6f}'.format(\n",
        "            epoch, nb_epochs, batch_idx+1, len(dataloader), cost.item()\n",
        "        ))"
      ],
      "metadata": {
        "colab": {
          "base_uri": "https://localhost:8080/"
        },
        "id": "SjI70vvYfgiW",
        "outputId": "968160e6-2af5-41f4-d01b-4788053d024e"
      },
      "execution_count": 38,
      "outputs": [
        {
          "output_type": "stream",
          "name": "stdout",
          "text": [
            "Epoch    0/20 Batch 1/2 Cost: 12460.433594\n",
            "Epoch    0/20 Batch 2/2 Cost: 3495.104736\n",
            "Epoch    1/20 Batch 1/2 Cost: 1713.395142\n",
            "Epoch    1/20 Batch 2/2 Cost: 650.336609\n",
            "Epoch    2/20 Batch 1/2 Cost: 306.852966\n",
            "Epoch    2/20 Batch 2/2 Cost: 54.067005\n",
            "Epoch    3/20 Batch 1/2 Cost: 34.876091\n",
            "Epoch    3/20 Batch 2/2 Cost: 23.002028\n",
            "Epoch    4/20 Batch 1/2 Cost: 8.139425\n",
            "Epoch    4/20 Batch 2/2 Cost: 3.286049\n",
            "Epoch    5/20 Batch 1/2 Cost: 5.281459\n",
            "Epoch    5/20 Batch 2/2 Cost: 1.616291\n",
            "Epoch    6/20 Batch 1/2 Cost: 0.593210\n",
            "Epoch    6/20 Batch 2/2 Cost: 6.846048\n",
            "Epoch    7/20 Batch 1/2 Cost: 1.958618\n",
            "Epoch    7/20 Batch 2/2 Cost: 3.013086\n",
            "Epoch    8/20 Batch 1/2 Cost: 3.048981\n",
            "Epoch    8/20 Batch 2/2 Cost: 1.555069\n",
            "Epoch    9/20 Batch 1/2 Cost: 3.065165\n",
            "Epoch    9/20 Batch 2/2 Cost: 1.537583\n",
            "Epoch   10/20 Batch 1/2 Cost: 2.754077\n",
            "Epoch   10/20 Batch 2/2 Cost: 2.094598\n",
            "Epoch   11/20 Batch 1/2 Cost: 2.198039\n",
            "Epoch   11/20 Batch 2/2 Cost: 2.746386\n",
            "Epoch   12/20 Batch 1/2 Cost: 2.801709\n",
            "Epoch   12/20 Batch 2/2 Cost: 2.050618\n",
            "Epoch   13/20 Batch 1/2 Cost: 3.034775\n",
            "Epoch   13/20 Batch 2/2 Cost: 2.749254\n",
            "Epoch   14/20 Batch 1/2 Cost: 2.358633\n",
            "Epoch   14/20 Batch 2/2 Cost: 2.815905\n",
            "Epoch   15/20 Batch 1/2 Cost: 2.513223\n",
            "Epoch   15/20 Batch 2/2 Cost: 2.389362\n",
            "Epoch   16/20 Batch 1/2 Cost: 3.030390\n",
            "Epoch   16/20 Batch 2/2 Cost: 1.589373\n",
            "Epoch   17/20 Batch 1/2 Cost: 2.130332\n",
            "Epoch   17/20 Batch 2/2 Cost: 2.798917\n",
            "Epoch   18/20 Batch 1/2 Cost: 2.475673\n",
            "Epoch   18/20 Batch 2/2 Cost: 2.473222\n",
            "Epoch   19/20 Batch 1/2 Cost: 2.427423\n",
            "Epoch   19/20 Batch 2/2 Cost: 2.507958\n",
            "Epoch   20/20 Batch 1/2 Cost: 2.778642\n",
            "Epoch   20/20 Batch 2/2 Cost: 1.917409\n"
          ]
        }
      ]
    }
  ]
}