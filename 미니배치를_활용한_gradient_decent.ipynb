{
  "nbformat": 4,
  "nbformat_minor": 0,
  "metadata": {
    "colab": {
      "name": "미니배치를 활용한 gradient decent.ipynb",
      "provenance": [],
      "collapsed_sections": [],
      "mount_file_id": "1oiMwtUpGfcCMeXNvMMIIBHybB4R0iSNZ",
      "authorship_tag": "ABX9TyOaCHYo8srsNLbHTUdI7z6v",
      "include_colab_link": true
    },
    "kernelspec": {
      "name": "python3",
      "display_name": "Python 3"
    },
    "language_info": {
      "name": "python"
    }
  },
  "cells": [
    {
      "cell_type": "markdown",
      "metadata": {
        "id": "view-in-github",
        "colab_type": "text"
      },
      "source": [
        "<a href=\"https://colab.research.google.com/github/martinlee192/AI-basic/blob/master/%EB%AF%B8%EB%8B%88%EB%B0%B0%EC%B9%98%EB%A5%BC_%ED%99%9C%EC%9A%A9%ED%95%9C_gradient_decent.ipynb\" target=\"_parent\"><img src=\"https://colab.research.google.com/assets/colab-badge.svg\" alt=\"Open In Colab\"/></a>"
      ]
    },
    {
      "cell_type": "markdown",
      "source": [
        "**Load Data**"
      ],
      "metadata": {
        "id": "OSNTAy5-tcD9"
      }
    },
    {
      "cell_type": "code",
      "execution_count": 5,
      "metadata": {
        "id": "-EH5I5sJKkH8"
      },
      "outputs": [],
      "source": [
        "import torch\n",
        "import torch.nn as nn\n",
        "import torch.nn.functional as F\n",
        "import torch.optim as optim\n"
      ]
    },
    {
      "cell_type": "code",
      "source": [
        "torch.manual_seed(1)"
      ],
      "metadata": {
        "colab": {
          "base_uri": "https://localhost:8080/"
        },
        "id": "M1IZKDkAe4AQ",
        "outputId": "688e67fb-67b5-4b93-c167-5f3a0907329c"
      },
      "execution_count": 2,
      "outputs": [
        {
          "output_type": "execute_result",
          "data": {
            "text/plain": [
              "<torch._C.Generator at 0x7f3cc5d41df0>"
            ]
          },
          "metadata": {},
          "execution_count": 2
        }
      ]
    },
    {
      "cell_type": "code",
      "source": [
        "import numpy as np"
      ],
      "metadata": {
        "id": "JKbtKqiie6lX"
      },
      "execution_count": 3,
      "outputs": []
    },
    {
      "cell_type": "code",
      "source": [
        "xy = np.loadtxt('/content/drive/MyDrive/DeepLearningExample/data-01-test-score.csv', delimiter=',', dtype=np.float32)\n"
      ],
      "metadata": {
        "id": "E8RojqkLfQye"
      },
      "execution_count": 9,
      "outputs": []
    },
    {
      "cell_type": "code",
      "source": [
        ""
      ],
      "metadata": {
        "id": "YbhE3UMTjK5G"
      },
      "execution_count": null,
      "outputs": []
    }
  ]
}